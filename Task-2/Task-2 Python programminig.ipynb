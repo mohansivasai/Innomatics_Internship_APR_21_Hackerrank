{
 "cells": [
  {
   "cell_type": "markdown",
   "metadata": {},
   "source": [
    "# Task-2 Python Programming"
   ]
  },
  {
   "cell_type": "markdown",
   "metadata": {},
   "source": [
    "## List Comprehensions"
   ]
  },
  {
   "cell_type": "code",
   "execution_count": null,
   "metadata": {},
   "outputs": [],
   "source": [
    "x = int(input())\n",
    "y = int(input())\n",
    "z = int(input())\n",
    "n = int(input())\n",
    "my_list = ([[i,j,k]for i in range(x+1) for j in range(y+1) for k in range(z+1) if i+j+k !=n])\n",
    "print(my_list)"
   ]
  },
  {
   "cell_type": "markdown",
   "metadata": {},
   "source": [
    "## Find the Runner-Up Score!\n"
   ]
  },
  {
   "cell_type": "code",
   "execution_count": null,
   "metadata": {},
   "outputs": [],
   "source": [
    "n = int(input())\n",
    "arr = list(map(int, input().split()))\n",
    "print(sorted(set(arr))[-2])"
   ]
  },
  {
   "cell_type": "markdown",
   "metadata": {},
   "source": [
    "## Nested Lists"
   ]
  },
  {
   "cell_type": "code",
   "execution_count": null,
   "metadata": {},
   "outputs": [],
   "source": [
    "students = []\n",
    "for _ in range(int(input())):\n",
    "    name = input()\n",
    "    score = float(input())\n",
    "    students.append([name,score])\n",
    "        \n",
    "marks = sorted(list(set([j for i,j in students])))\n",
    "second_low = marks[1]\n",
    "for temp in sorted([a for a,b in students if b == second_low]):\n",
    "        print(temp)"
   ]
  },
  {
   "cell_type": "markdown",
   "metadata": {},
   "source": [
    "## Finding the percentage"
   ]
  },
  {
   "cell_type": "code",
   "execution_count": null,
   "metadata": {},
   "outputs": [],
   "source": [
    "n = int(input())\n",
    "student_marks = {}\n",
    "for _ in range(n):\n",
    "    name, *line = input().split()\n",
    "    scores = list(map(float, line))\n",
    "    student_marks[name] = scores\n",
    "    query_name = input()\n",
    "    \n",
    "var = sum(student_marks[query_name])/len(student_marks[query_name])\n",
    "print(\"{:.2f}\".format(var))"
   ]
  },
  {
   "cell_type": "markdown",
   "metadata": {},
   "source": [
    "## Lists"
   ]
  },
  {
   "cell_type": "code",
   "execution_count": null,
   "metadata": {},
   "outputs": [],
   "source": [
    "my_list = []\n",
    "N = int(input(\"Enter the range:\"))\n",
    "for i in range(N):\n",
    "    s = input(\"Enter the op:\").split()\n",
    "    arr = [int(x) for x in s[1:]]\n",
    "    if s[0] == \"insert\":\n",
    "        my_list.insert(arr[0],arr[1])\n",
    "    elif s[0] == \"remove\":\n",
    "        my_list.remove(arr[0])\n",
    "    if s[0] == \"append\":\n",
    "        my_list.append(arr[0])\n",
    "    elif s[0] == \"sort\":\n",
    "        my_list.sort()\n",
    "    elif s[0] == \"pop\":\n",
    "        my_list.pop()\n",
    "    elif s[0] == \"reverse\":\n",
    "        my_list.reverse()\n",
    "    elif s[0] == 'print':\n",
    "            print(my_list)\n",
    "    else:\n",
    "        continue"
   ]
  },
  {
   "cell_type": "markdown",
   "metadata": {},
   "source": [
    "## Tuples"
   ]
  },
  {
   "cell_type": "code",
   "execution_count": null,
   "metadata": {},
   "outputs": [],
   "source": [
    "n = int(input())\n",
    "integer_list = map(int, input().split())\n",
    "print(hash(tuple(integer_list)))"
   ]
  },
  {
   "cell_type": "markdown",
   "metadata": {},
   "source": [
    "## Introduction to Sets"
   ]
  },
  {
   "cell_type": "code",
   "execution_count": null,
   "metadata": {},
   "outputs": [],
   "source": [
    "def average(array):\n",
    "    arr = set(array)\n",
    "    avg = sum(arr)/len(arr)\n",
    "    res = \"{:.3f}\".format(avg) \n",
    "    return res\n",
    "\n",
    "if __name__ == '__main__':\n",
    "    n = int(input())\n",
    "    arr = list(map(int, input().split()))\n",
    "    result = average(arr)\n",
    "    print(result)"
   ]
  },
  {
   "cell_type": "markdown",
   "metadata": {},
   "source": [
    "## No Idea!"
   ]
  },
  {
   "cell_type": "code",
   "execution_count": null,
   "metadata": {},
   "outputs": [],
   "source": [
    "n,m = map(int,input().split())\n",
    "arr = list(map(int,input().split()))\n",
    "a = set(map(int,input().split()))\n",
    "b = set(map(int,input().split()))\n",
    "happy = 0\n",
    "for i in range(n):\n",
    "    if arr[i] in a:\n",
    "        happy+=1\n",
    "    if arr[i] in b:\n",
    "        happy-=1\n",
    "        \n",
    "print(happy)"
   ]
  },
  {
   "cell_type": "markdown",
   "metadata": {},
   "source": [
    "## Symmetric Difference"
   ]
  },
  {
   "cell_type": "code",
   "execution_count": null,
   "metadata": {},
   "outputs": [],
   "source": [
    "n = int(input())\n",
    "a = set(map(int,input().split()))\n",
    "m = int(input())\n",
    "b = set(map(int,input().split()))\n",
    "sym_diff = a^b\n",
    "for i in sorted(sym_diff):\n",
    "    print(i)"
   ]
  },
  {
   "cell_type": "markdown",
   "metadata": {},
   "source": [
    "## Set .add()"
   ]
  },
  {
   "cell_type": "code",
   "execution_count": null,
   "metadata": {},
   "outputs": [],
   "source": [
    "n = int(input())\n",
    "stamps = set(input() for i in range(n))\n",
    "print(len(stamps))"
   ]
  },
  {
   "cell_type": "markdown",
   "metadata": {},
   "source": [
    "## Set .discard(), .remove() & .pop()"
   ]
  },
  {
   "cell_type": "code",
   "execution_count": null,
   "metadata": {},
   "outputs": [],
   "source": [
    "#pop - Removes the first element from the set\n",
    "#remove - Remove the given element, it raises error if element is absent in given set.\n",
    "#discard - Same as Remove but it doesnt raise ann error even with absence of element.\n",
    "n = int(input())\n",
    "s = set(map(int, input().split()))\n",
    "op_ran = int(input(\"enter the range of operation:\"))\n",
    "for i in range(op_ran):\n",
    "    op = input(\"enter the operation\").split()\n",
    "    if op[0] == 'pop':\n",
    "        s.pop()\n",
    "        #print(s)\n",
    "    elif op[0] == 'remove':\n",
    "        s.remove(int(op[1]))\n",
    "        #print(s)\n",
    "    elif op[0] == 'discard':\n",
    "        s.discard(int(op[1]))\n",
    "        #print(s)\n",
    "    else:\n",
    "        break\n",
    "#print(s)        \n",
    "print(sum(s))\n",
    "    "
   ]
  },
  {
   "cell_type": "markdown",
   "metadata": {},
   "source": [
    "## Set .union() Operation\n"
   ]
  },
  {
   "cell_type": "code",
   "execution_count": null,
   "metadata": {},
   "outputs": [],
   "source": [
    "n1 = int(input())\n",
    "a1 = set(map(int,input().split()))\n",
    "n2 = int(input())\n",
    "a2 = set(map(int,input().split()))\n",
    "un = a1.union(a2)\n",
    "print(len(un))"
   ]
  },
  {
   "cell_type": "markdown",
   "metadata": {},
   "source": [
    "## Set.intersection() Operation"
   ]
  },
  {
   "cell_type": "code",
   "execution_count": null,
   "metadata": {},
   "outputs": [],
   "source": [
    "n1 = int(input())\n",
    "a1 = set(map(int,input().split()))\n",
    "n2 = int(input())\n",
    "a2 = set(map(int,input().split()))\n",
    "inter = a1.intersection(a2)\n",
    "print(len(inter))"
   ]
  },
  {
   "cell_type": "markdown",
   "metadata": {},
   "source": [
    "## Set.difference() Operation"
   ]
  },
  {
   "cell_type": "code",
   "execution_count": null,
   "metadata": {},
   "outputs": [],
   "source": [
    "n1 = int(input())\n",
    "a1 = set(map(int,input().split()))\n",
    "n2 = int(input())\n",
    "a2 = set(map(int,input().split()))\n",
    "diff = a1-a2\n",
    "print(len(diff))"
   ]
  },
  {
   "cell_type": "markdown",
   "metadata": {},
   "source": [
    "## Set.symmetric_difference() Operation"
   ]
  },
  {
   "cell_type": "code",
   "execution_count": null,
   "metadata": {},
   "outputs": [],
   "source": [
    "n1 = int(input())\n",
    "a1 = set(map(int,input().split()))\n",
    "n2 = int(input())\n",
    "a2 = set(map(int,input().split()))\n",
    "sym_diff = a1^a2 #union-intersection\n",
    "print(len(sym_diff))"
   ]
  },
  {
   "cell_type": "markdown",
   "metadata": {},
   "source": [
    "## Set Mutations"
   ]
  },
  {
   "cell_type": "code",
   "execution_count": null,
   "metadata": {},
   "outputs": [],
   "source": [
    "n_a = int(input())\n",
    "a = set(map(int,input().split()))\n",
    "n = int(input())\n",
    "for i in range(n):\n",
    "    s = input().split()\n",
    "    arr = set(map(int,input().split()))\n",
    "    if s[0] == 'update':\n",
    "        a.update(arr) #a|=arr\n",
    "    elif s[0] == 'intersection_update':\n",
    "        a&=arr #a.intersection_update(arr)\n",
    "    elif s[0] == 'difference_update':\n",
    "        a-=arr#a.difference_update(arr)\n",
    "    elif s[0] == 'symmetric_difference_update':\n",
    "        a.symmetric_difference_update(arr)\n",
    "        #a^=arr\n",
    "    else:\n",
    "        break\n",
    "    \n",
    "print(sum(a))"
   ]
  },
  {
   "cell_type": "markdown",
   "metadata": {},
   "source": [
    "## The Captain's Room"
   ]
  },
  {
   "cell_type": "code",
   "execution_count": null,
   "metadata": {},
   "outputs": [],
   "source": [
    "k = int(input())\n",
    "arr = list(map(int,input().split()))\n",
    "my_set = set(arr)\n",
    "sum_set = sum(my_set)*k\n",
    "sum_arr = sum(arr)\n",
    "print((sum_set-sum_arr)//(k-1))"
   ]
  },
  {
   "cell_type": "code",
   "execution_count": null,
   "metadata": {},
   "outputs": [],
   "source": [
    "#or \n",
    "k = int(input())\n",
    "arr = list(map(int,input().split()))\n",
    "s1= []#unique\n",
    "s2= []#all elements\n",
    "for i in arr:\n",
    "    if i in s1:\n",
    "        s2.append(i)\n",
    "    else:\n",
    "        s1.append(i)\n",
    "s3 = set(s1)-sey(s2)\n",
    "print(s3.pop())"
   ]
  },
  {
   "cell_type": "markdown",
   "metadata": {},
   "source": [
    "## Check Subset"
   ]
  },
  {
   "cell_type": "code",
   "execution_count": null,
   "metadata": {},
   "outputs": [],
   "source": [
    "t = int(input())\n",
    "for i in range(t):\n",
    "    n_a = int(input())\n",
    "    a = set(map(int,input().split()))\n",
    "    n_b = int(input())\n",
    "    b = set(map(int,input().split()))\n",
    "    if a<=b #a.issubset(b):\n",
    "        print(True)\n",
    "    else:\n",
    "        print(False)"
   ]
  },
  {
   "cell_type": "markdown",
   "metadata": {},
   "source": [
    "## Check Strict Superset"
   ]
  },
  {
   "cell_type": "code",
   "execution_count": null,
   "metadata": {},
   "outputs": [],
   "source": [
    "a = set(map(int,input().split()))\n",
    "n = int(input())\n",
    "count = 0\n",
    "for i in range(n):\n",
    "    b = set(map(int,input().split()))\n",
    "    if a.issuperset(b):\n",
    "        count+=1\n",
    "if count == n:\n",
    "    print(True)\n",
    "else:\n",
    "    print(False)"
   ]
  },
  {
   "cell_type": "markdown",
   "metadata": {},
   "source": [
    "# Reading Material:\n",
    "https://diveintopython3.problemsolving.io/native-datatypes.html"
   ]
  }
 ],
 "metadata": {
  "kernelspec": {
   "display_name": "Python 3",
   "language": "python",
   "name": "python3"
  },
  "language_info": {
   "codemirror_mode": {
    "name": "ipython",
    "version": 3
   },
   "file_extension": ".py",
   "mimetype": "text/x-python",
   "name": "python",
   "nbconvert_exporter": "python",
   "pygments_lexer": "ipython3",
   "version": "3.8.5"
  }
 },
 "nbformat": 4,
 "nbformat_minor": 4
}
