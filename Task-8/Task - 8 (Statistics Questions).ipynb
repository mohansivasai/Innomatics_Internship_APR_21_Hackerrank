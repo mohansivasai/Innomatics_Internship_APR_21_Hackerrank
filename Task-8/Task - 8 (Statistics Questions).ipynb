{
 "cells": [
  {
   "cell_type": "markdown",
   "metadata": {},
   "source": [
    "# Task - 8 (Statistics Questions)"
   ]
  },
  {
   "cell_type": "code",
   "execution_count": null,
   "metadata": {},
   "outputs": [],
   "source": [
    "## Binomial Distribution-I\n",
    "\n",
    "from math import factorial\n",
    "# import numpy as np\n",
    "# def factorial(n):\n",
    "#     return np.prod(np.arange(n,1,-1))\n",
    "\n",
    "#b,g = [float(i) for i in input().strip().split(' ')]\n",
    "b=1.09\n",
    "g=1\n",
    "#print(b,g)\n",
    "n=6\n",
    "\n",
    "p = b / (b+g) \n",
    "q = 1-p\n",
    "#print(p,q)\n",
    "b3 = factorial(n)/(factorial(3)*factorial(n-3))* p**3 * q**(n-3)\n",
    "b4 = factorial(n)/(factorial(4)*factorial(n-4))* p**4 * q**(n-4)\n",
    "b5 = factorial(n)/(factorial(5)*factorial(n-5))* p**5 * q**(n-5)\n",
    "b6 = factorial(n)/(factorial(6)*factorial(n-6))* p**6 * q**(n-6)\n",
    "print(round(b3+b4+b5+b6,3))"
   ]
  },
  {
   "cell_type": "code",
   "execution_count": null,
   "metadata": {},
   "outputs": [],
   "source": [
    "## binomial Distribution-II\n",
    "from math import factorial\n",
    "p = 12/100\n",
    "q = 1-p\n",
    "n = 10\n",
    "s = 0\n",
    "x0 = factorial(n)/(factorial(0)*factorial(n-0)) * p**0 * q**(n-0)\n",
    "x1 = factorial(n)/(factorial(1)*factorial(n-1)) * p**1 * q**(n-1)\n",
    "x2 = factorial(n)/(factorial(2)*factorial(n-2)) * p**2 * q**(n-2)\n",
    "x = x0 + x1 + x2\n",
    "print(round(x,3))\n",
    "print(round(1-x+x2,3))"
   ]
  },
  {
   "cell_type": "code",
   "execution_count": null,
   "metadata": {},
   "outputs": [],
   "source": [
    "## normal Distribution-I\n",
    "\n",
    "from math import erf\n",
    "mean, std = map(int,[20, 2])\n",
    "# cdf = lambda x: 0.5 * (1 + math.erf((x - mean) / (std * (2 ** 0.5))))\n",
    "def cdf(x):\n",
    "    return 0.5 + 0.5*erf((x-mean)/(1.414*std))\n",
    "\n",
    "# Less than 19.5\n",
    "print(round(cdf(19.5),3))\n",
    "# Between 20 and 22\n",
    "print('{:.3f}'.format(cdf(22) - cdf(20)))"
   ]
  },
  {
   "cell_type": "code",
   "execution_count": null,
   "metadata": {},
   "outputs": [],
   "source": [
    "## Normal Distribution- II\n",
    "mean = 70\n",
    "std = 10\n",
    "x1 = 80\n",
    "x2 = 60\n",
    "\n",
    "# cdf = lambda x: 0.5 + (0.5*(erf((x-mean)/(1.414*std))))\n",
    "cdf = lambda x: 0.5 * (1 + erf((x - mean) / (std * 1.41421)))\n",
    "h = (1 - cdf(80))*100\n",
    "print(round(h,2))\n",
    "print(round((1-cdf(x2))*100,2))\n",
    "print(round(cdf(x2)*100,2))"
   ]
  },
  {
   "cell_type": "code",
   "execution_count": null,
   "metadata": {},
   "outputs": [],
   "source": [
    "# Central Limiting theorem-I\n",
    "\n",
    "import math\n",
    "x = int(input())\n",
    "n = int(input())\n",
    "s = int(input())\n",
    "sigma = int(input())\n",
    "\n",
    "mean = n * s \n",
    "sigma_ = math.sqrt(n) * sigma\n",
    "\n",
    "def cdf(x, m, s):\n",
    "    Z = (x - m)/s\n",
    "    return 0.5*(1 + math.erf(Z/(math.sqrt(2))))\n",
    "\n",
    "print(round(cdf(x, mean, sigma_), 4))"
   ]
  },
  {
   "cell_type": "code",
   "execution_count": null,
   "metadata": {},
   "outputs": [],
   "source": [
    "# Central Limiting theorem-II\n",
    "\n",
    "import math\n",
    "x = float(input())\n",
    "n = float(input())\n",
    "s = float(input())\n",
    "sigma = float(input())\n",
    "mean = n * s \n",
    "sigma_ = math.sqrt(n) * sigma\n",
    "def cdf(x, m, s):\n",
    "    Z = (x - m)/s\n",
    "    return 0.5*(1 + math.erf(Z/(math.sqrt(2))))\n",
    "\n",
    "print(round(cdf(x, mean, sigma_), 4))"
   ]
  },
  {
   "cell_type": "code",
   "execution_count": null,
   "metadata": {},
   "outputs": [],
   "source": [
    "# Central Limiting theorem-III\n",
    "\n",
    "# Given the Z*score ,We have to compute the interval that covers the middle 95%(y% confidence) of the distribution.\n",
    "\n",
    "import math\n",
    "n = float(input())\n",
    "mean = float(input())\n",
    "sd = float(input())\n",
    "y_per_confidence = float(input())\n",
    "z = float(input())\n",
    "\n",
    "sample_mean = mean\n",
    "sample_std = sd/(n**0.5)\n",
    "\n",
    "X_A =  sample_mean - (z*sample_std)\n",
    "X_B =  sample_mean + (z*sample_std)\n",
    "print(round(X_A,2))\n",
    "print(round(X_B,2))"
   ]
  },
  {
   "cell_type": "code",
   "execution_count": null,
   "metadata": {},
   "outputs": [],
   "source": [
    "## Pearson Corelation Coefficient\n",
    "\n",
    "n = int(input())\n",
    "x = list(map(float,input().split()))\n",
    "y = list(map(float,input().split()))\n",
    "\n",
    "ux = sum(x)/n\n",
    "uy = sum(y)/n\n",
    "std_x = (sum([(i-ux)**2 for i in x])/n)**0.5\n",
    "std_y = (sum([(j-uy)**2 for j in y])/n)**0.5\n",
    "\n",
    "iterable = map(lambda x,y:(x,y),x,y)\n",
    "s = 0\n",
    "for i,j in iterable:\n",
    "    s += (i-ux)*(j-uy) \n",
    "    \n",
    "corr = s/n\n",
    "corr_coef = corr/(std_x*std_y)\n",
    "print(round(corr_coef,3))"
   ]
  },
  {
   "cell_type": "code",
   "execution_count": null,
   "metadata": {},
   "outputs": [],
   "source": [
    "## Least Squares Regression Line\n",
    "\n",
    "x=[]\n",
    "y=[]\n",
    "xy = []\n",
    "for _ in range(5):\n",
    "    a,b = map(int,input().split())\n",
    "    x.append(a)\n",
    "    y.append(b)\n",
    "    xy.append(a*b)\n",
    "n = 5\n",
    "sx = sum(x)\n",
    "ux = sx/n\n",
    "sy = sum(y)\n",
    "uy = sy/n\n",
    "x2 = sum([i**2 for i in x])\n",
    "sxy = sum(xy)\n",
    "nume = n*sxy - (sx)*(sy)\n",
    "den = n*x2 - (sx**2)\n",
    "b = nume/den\n",
    "a = uy - b*ux\n",
    "reg = lambda x:a+b*x\n",
    "print(reg(80))"
   ]
  },
  {
   "cell_type": "code",
   "execution_count": null,
   "metadata": {},
   "outputs": [],
   "source": [
    "## Multi Linear Regression\n",
    "\n",
    "from sklearn import linear_model\n",
    "import  numpy as np\n",
    "m,n = map(int,input().split())\n",
    "x = []\n",
    "y = []\n",
    "for _ in range(n):\n",
    "    t = list(map(float,input().split()))\n",
    "    x.append(t[0:m])\n",
    "    y.append(t[-1])\n",
    "lm = linear_model.LinearRegression()\n",
    "lm.fit(x, y)\n",
    "a = lm.intercept_\n",
    "b = lm.coef_\n",
    "q = int(input())\n",
    "X = np.array([input().split() for _ in range(q)],dtype=np.float)\n",
    "b = np.reshape(b,(len(b),1))\n",
    "Y =  np.dot(X,b) + a\n",
    "for i in Y:\n",
    "    print(i[0])\n"
   ]
  }
 ],
 "metadata": {
  "kernelspec": {
   "display_name": "Python 3",
   "language": "python",
   "name": "python3"
  },
  "language_info": {
   "codemirror_mode": {
    "name": "ipython",
    "version": 3
   },
   "file_extension": ".py",
   "mimetype": "text/x-python",
   "name": "python",
   "nbconvert_exporter": "python",
   "pygments_lexer": "ipython3",
   "version": "3.8.5"
  }
 },
 "nbformat": 4,
 "nbformat_minor": 4
}
