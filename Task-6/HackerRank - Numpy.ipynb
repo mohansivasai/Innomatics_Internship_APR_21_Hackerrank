{
 "cells": [
  {
   "cell_type": "markdown",
   "metadata": {},
   "source": [
    "# Task - 6 (Numpy)"
   ]
  },
  {
   "cell_type": "code",
   "execution_count": null,
   "metadata": {},
   "outputs": [],
   "source": [
    "import numpy as np"
   ]
  },
  {
   "cell_type": "markdown",
   "metadata": {},
   "source": [
    "## Arrays"
   ]
  },
  {
   "cell_type": "code",
   "execution_count": null,
   "metadata": {},
   "outputs": [],
   "source": [
    "def arrays(arr):\n",
    "    # complete this function\n",
    "    # use numpy.array\n",
    "    # arr = list(map(float,arr))\n",
    "    my_arr = numpy.array(arr)\n",
    "    return my_arr[::-1].astype(numpy.float)\n"
   ]
  },
  {
   "cell_type": "markdown",
   "metadata": {},
   "source": [
    "## Shape and Reshape"
   ]
  },
  {
   "cell_type": "code",
   "execution_count": null,
   "metadata": {},
   "outputs": [],
   "source": [
    "## Shape and Reshape\n",
    "\n",
    "lst = input().split()\n",
    "# np_arr = numpy.array(lst,dtype=int).reshape(3,3)\n",
    "np_arr = numpy.array(lst,dtype=int)\n",
    "np_arr.shape = (3,3)\n",
    "print(np_arr)"
   ]
  },
  {
   "cell_type": "markdown",
   "metadata": {},
   "source": [
    "## Transpose and flattten"
   ]
  },
  {
   "cell_type": "code",
   "execution_count": null,
   "metadata": {},
   "outputs": [],
   "source": [
    "## Transpose and flattten\n",
    "\n",
    "n,m = map(int,input().split())\n",
    "arr = np.array([input().split() for _ in range(n)],dtype = int)\n",
    "# print(arr.T)\n",
    "# print(arr.transpose())\n",
    "print(np.transpose(arr))\n",
    "print(arr.flatten())"
   ]
  },
  {
   "cell_type": "markdown",
   "metadata": {},
   "source": [
    "## Concatenate"
   ]
  },
  {
   "cell_type": "code",
   "execution_count": null,
   "metadata": {},
   "outputs": [],
   "source": [
    "## Concatenate\n",
    "\n",
    "n,m,p = map(int,input().split())\n",
    "\n",
    "arr1 = np.array([input().split() for _ in range(n)],dtype=int)\n",
    "arr2 = np.array([input().split() for _ in range(m)],dtype=int)\n",
    "\n",
    "arr = np.concatenate([arr1,arr2],axis = 0)\n",
    "print(arr)"
   ]
  },
  {
   "cell_type": "markdown",
   "metadata": {},
   "source": [
    "## Zeros and Ones"
   ]
  },
  {
   "cell_type": "code",
   "execution_count": null,
   "metadata": {},
   "outputs": [],
   "source": [
    "## Zeros and Ones\n",
    "\n",
    "size = tuple(map(int,input().split()))\n",
    "\n",
    "print(np.zeros(size).astype(np.int))\n",
    "print(np.ones(size,dtype=np.int))"
   ]
  },
  {
   "cell_type": "markdown",
   "metadata": {},
   "source": [
    "## Eye and Identity"
   ]
  },
  {
   "cell_type": "code",
   "execution_count": null,
   "metadata": {},
   "outputs": [],
   "source": [
    "## Eye and Identity\n",
    "\n",
    "# np.set_printoptions(legacy='1.13')\n",
    "n,m = map(int,input().split())\n",
    "print(np.eye(n,m))"
   ]
  },
  {
   "cell_type": "markdown",
   "metadata": {},
   "source": [
    "## Array Mathematics"
   ]
  },
  {
   "cell_type": "code",
   "execution_count": null,
   "metadata": {},
   "outputs": [],
   "source": [
    "## Array Mathematics\n",
    "n,m = map(int,input().split())\n",
    "arr = [[input().split() for i in range(n)] for _ in range(2)]\n",
    "    \n",
    "a = np.array(arr[0],dtype=int)\n",
    "b = np.array(arr[1],dtype= np.int)\n",
    "\n",
    "print(a+b)\n",
    "print(a-b)\n",
    "print(a*b)\n",
    "print(a//b)\n",
    "print(np.mod(a,b))\n",
    "print(np.power(a,b))"
   ]
  },
  {
   "cell_type": "markdown",
   "metadata": {},
   "source": [
    "## Floor, Ceil, Rint"
   ]
  },
  {
   "cell_type": "code",
   "execution_count": null,
   "metadata": {},
   "outputs": [],
   "source": [
    "## Floor, Ceil, Rint\n",
    "\n",
    "arr = np.array(input().split(),dtype=np.float)\n",
    "print(np.floor(arr))\n",
    "print(np.ceil(arr))\n",
    "print(np.rint(arr))"
   ]
  },
  {
   "cell_type": "markdown",
   "metadata": {},
   "source": [
    "## Sum and Product"
   ]
  },
  {
   "cell_type": "code",
   "execution_count": null,
   "metadata": {},
   "outputs": [],
   "source": [
    "## Sum and Product\n",
    "\n",
    "n,m = map(int,input().split())\n",
    "arr = np.array([input().split() for _ in range(n)],dtype=np.int)\n",
    "s = np.sum(arr,axis = 0)\n",
    "print(np.product(s))"
   ]
  },
  {
   "cell_type": "markdown",
   "metadata": {},
   "source": [
    "## Min and Max"
   ]
  },
  {
   "cell_type": "code",
   "execution_count": null,
   "metadata": {},
   "outputs": [],
   "source": [
    "## Min and Max\n",
    "\n",
    "n,m = map(int,input().split())\n",
    "arr = np.array([input().split() for _ in range(n)],dtype=np.int)\n",
    "min_arr = np.min(arr,axis= 1)\n",
    "print(np.max(min_arr,axis=None))"
   ]
  },
  {
   "cell_type": "markdown",
   "metadata": {},
   "source": [
    "##  Mean, Var and Standard deviation"
   ]
  },
  {
   "cell_type": "code",
   "execution_count": null,
   "metadata": {},
   "outputs": [],
   "source": [
    "##  Mean, Var and Standard deviation\n",
    "\n",
    "nm = input().split()\n",
    "n = int(nm[0])\n",
    "m = int(nm[1])\n",
    "arr = numpy.array([input().split() for _ in range(n)],dtype=int)\n",
    "print(numpy.mean(arr, axis = 1))\n",
    "print(numpy.var(arr, axis = 0))\n",
    "std = numpy.std(arr)\n",
    "print(numpy.around(std,11))\n",
    "\n",
    "# np.set_printoptions(legacy='1.13')\n",
    "n,m = map(int,input().split())\n",
    "arr = np.array([input().split() for _ in range(n)],dtype=np.int)\n",
    "print(arr.mean(axis=1))\n",
    "print(np.var(arr,axis=0))\n",
    "np.set_printoptions(legacy='1.13')\n",
    "print(np.std(arr))"
   ]
  },
  {
   "cell_type": "markdown",
   "metadata": {},
   "source": [
    "## Dot and Cross Multiplication"
   ]
  },
  {
   "cell_type": "code",
   "execution_count": null,
   "metadata": {},
   "outputs": [],
   "source": [
    "## Dot and Cross Multiplication\n",
    "\n",
    "n = int(input())\n",
    "arr = [[input().split() for i in range(n)]for _ in range(2)]\n",
    "a = np.array(arr[0],dtype=np.int)\n",
    "b = np.array(arr[1],dtype=np.int)\n",
    "print(np.dot(a,b))"
   ]
  },
  {
   "cell_type": "markdown",
   "metadata": {},
   "source": [
    "## Inner and Outer Product"
   ]
  },
  {
   "cell_type": "code",
   "execution_count": null,
   "metadata": {},
   "outputs": [],
   "source": [
    "## Inner and Outer Product\n",
    "\n",
    "a = np.array(input().split(),dtype=np.int)\n",
    "b = np.array(input().split(),dtype=np.int)\n",
    "print(np.inner(a,b))\n",
    "print(np.outer(a,b))"
   ]
  },
  {
   "cell_type": "markdown",
   "metadata": {},
   "source": [
    "## Polynomials\n"
   ]
  },
  {
   "cell_type": "code",
   "execution_count": null,
   "metadata": {},
   "outputs": [],
   "source": [
    "## Polynomials\n",
    "\n",
    "arr = list(map(float,input().split()))\n",
    "x = int(input())\n",
    "print(np.polyval(arr,x))"
   ]
  },
  {
   "cell_type": "markdown",
   "metadata": {},
   "source": [
    "## Linear Algebra\n"
   ]
  },
  {
   "cell_type": "code",
   "execution_count": null,
   "metadata": {},
   "outputs": [],
   "source": [
    "## Linear Algebra\n",
    "\n",
    "np.set_printoptions(legacy='1.13')\n",
    "n = int(input())\n",
    "arr = np.array([input().split() for _ in range(n)],dtype=np.float)\n",
    "det = np.linalg.det(arr)\n",
    "print(det)"
   ]
  },
  {
   "cell_type": "markdown",
   "metadata": {},
   "source": [
    "# Reading Material :\n",
    "https://github.com/bansalkanav/Machine_Learning_and_Deep_Learning/blob/master/5.%20Numpy/numpy.ipynb"
   ]
  }
 ],
 "metadata": {
  "kernelspec": {
   "display_name": "Python 3",
   "language": "python",
   "name": "python3"
  },
  "language_info": {
   "codemirror_mode": {
    "name": "ipython",
    "version": 3
   },
   "file_extension": ".py",
   "mimetype": "text/x-python",
   "name": "python",
   "nbconvert_exporter": "python",
   "pygments_lexer": "ipython3",
   "version": "3.8.5"
  }
 },
 "nbformat": 4,
 "nbformat_minor": 4
}
