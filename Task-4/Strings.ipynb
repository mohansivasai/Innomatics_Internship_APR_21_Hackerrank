{
 "cells": [
  {
   "cell_type": "markdown",
   "metadata": {},
   "source": [
    "## Task - 4 (Python Programming)"
   ]
  },
  {
   "cell_type": "code",
   "execution_count": null,
   "metadata": {},
   "outputs": [],
   "source": [
    "##swap case\n",
    "\n",
    "def swap_case(s):\n",
    "    arr = ''\n",
    "    for char in s:\n",
    "        if (char.isupper()==True):\n",
    "            arr += char.lower();\n",
    "        else:\n",
    "            arr += char.upper()\n",
    "    return arr\n",
    "swap_case('helLO WORld 12')"
   ]
  },
  {
   "cell_type": "code",
   "execution_count": null,
   "metadata": {},
   "outputs": [],
   "source": [
    "##Text Wrap\n",
    "def wrap(string,max_width):\n",
    "    s=[]\n",
    "    for i in range(0,len(string),max_width):\n",
    "        print(string[i:i+max_width])\n",
    "       # return \"\\n\".join(textwrap.wrap(string, max_width))  \n",
    "wrap('ABCDEFGHIJKLMNOPQRSTUVWXYZ',4)"
   ]
  },
  {
   "cell_type": "code",
   "execution_count": null,
   "metadata": {},
   "outputs": [],
   "source": [
    "## text alignment\n",
    "thickness = int(input()) #This must be an odd number\n",
    "c = 'H'\n",
    "\n",
    "#Top Cone\n",
    "for i in range(thickness):\n",
    "    print((c*i).rjust(thickness-1)+c+(c*i).ljust(thickness-1))\n",
    "\n",
    "#Top Pillars\n",
    "for i in range(thickness+1):\n",
    "    print((c*thickness).center(thickness*2)+(c*thickness).center(thickness*6))\n",
    "\n",
    "#Middle Belt\n",
    "for i in range((thickness+1)//2):\n",
    "    print((c*thickness*5).center(thickness*6))    \n",
    "\n",
    "#Bottom Pillars\n",
    "for i in range(thickness+1):\n",
    "    print((c*thickness).center(thickness*2)+(c*thickness).center(thickness*6))    \n",
    "\n",
    "#Bottom Cone\n",
    "for i in range(thickness):\n",
    "    print(((c*(thickness-i-1)).rjust(thickness)+c+(c*(thickness-i-1)).ljust(thickness)).rjust(thickness*6))"
   ]
  },
  {
   "cell_type": "code",
   "execution_count": null,
   "metadata": {},
   "outputs": [],
   "source": [
    "## Capitalize\n",
    "def solve(s):\n",
    "    l = [i.capitalize() for i in s.split(\" \")]\n",
    "    s = \" \".join(l)\n",
    "    return s \n"
   ]
  },
  {
   "cell_type": "code",
   "execution_count": null,
   "metadata": {},
   "outputs": [],
   "source": [
    "## Mutations\n",
    "def mutate_string(string, position, character):\n",
    "    #s = string[:position] + character + string[position+1:]\n",
    "    #or\n",
    "    l = list(string)\n",
    "    l[position] = character\n",
    "    s = \"\".join(l)\n",
    "    \n",
    "    return s"
   ]
  },
  {
   "cell_type": "code",
   "execution_count": null,
   "metadata": {},
   "outputs": [],
   "source": [
    "## String split and join\n",
    "def split_and_join(line):\n",
    "    s = line.split(\" \")\n",
    "    s = \"-\".join(s)\n",
    "    return s\n",
    "    "
   ]
  },
  {
   "cell_type": "code",
   "execution_count": null,
   "metadata": {},
   "outputs": [],
   "source": [
    "## Whats your name\n",
    "def print_full_name(first, last):\n",
    "    print(f\"Hello {first} {last}! You just delved into python.\")"
   ]
  },
  {
   "cell_type": "code",
   "execution_count": null,
   "metadata": {},
   "outputs": [],
   "source": [
    "## String Validators\n",
    "s = input()\n",
    "print(any(i.isalnum() for i in s))\n",
    "print(any(i.isalpha() for i in s))\n",
    "print(any(i.isdigit() for i in s))\n",
    "print(any(i.islower() for i in s))\n",
    "print(any(i.isupper() for i in s))\n"
   ]
  },
  {
   "cell_type": "code",
   "execution_count": null,
   "metadata": {},
   "outputs": [],
   "source": [
    "## Designer Doormat\n",
    "n,m = map(int,input().split())\n",
    "# for i in range(1,n,2):\n",
    "#     print((i*\".|.\").center(m,\"-\"))\n",
    "print('WELCOME'.center(m,\"-\"))\n",
    "for j in range(n-2,0,-2):\n",
    "    print((j*\".|.\").center(m,\"-\"))"
   ]
  },
  {
   "cell_type": "code",
   "execution_count": null,
   "metadata": {
    "scrolled": true
   },
   "outputs": [],
   "source": [
    "## alphabet rangoli\n",
    "def print_rangoli(size):\n",
    "    myStr = \"\".join(chr(i) for i in range(97,97+27))[0:size]\n",
    "    \n",
    "    for i in range(size-1, -size, -1):\n",
    "        x = abs(i)\n",
    "        line = myStr[size:x:-1]+myStr[x:size]\n",
    "        print (\"--\"*x+ '-'.join(line)+\"--\"*x)"
   ]
  },
  {
   "cell_type": "code",
   "execution_count": null,
   "metadata": {},
   "outputs": [],
   "source": [
    "## String Formating\n",
    "n = int(input())\n",
    "\n",
    "results = []\n",
    "\n",
    "for i in range(1, n+1):\n",
    "    decimal = f\"{i}\"\n",
    "    octal = f\"{oct(i)[2:]}\"\n",
    "    hex_ = f\"{hex(i)[2:].upper()}\"\n",
    "    binary = f\"{bin(i)[2:]}\"\n",
    "\n",
    "    results.append([decimal, octal, hex_, binary])\n",
    "\n",
    "width = len(bin(n)[2:])\n",
    "\n",
    "for i in results:\n",
    "    print(*(rep.rjust(width) for rep in i)) # '*' for unpacking function call"
   ]
  },
  {
   "cell_type": "code",
   "execution_count": 110,
   "metadata": {},
   "outputs": [],
   "source": [
    "## Find a String\n",
    "def count_substring(string, sub_string):\n",
    "#     string = input()\n",
    "    count = 0\n",
    "    for i in range(0, len(string)):\n",
    "        if string[i:i + len(sub_string)] == sub_string:\n",
    "            count += 1\n",
    "    print(count)"
   ]
  },
  {
   "cell_type": "code",
   "execution_count": null,
   "metadata": {},
   "outputs": [],
   "source": [
    "## Merge the Tools!\n",
    "def merge_the_tools(string, k):\n",
    "    n = len(string)\n",
    "    l = n/k\n",
    "    for i in range(l):\n",
    "        print(sub_task(string[i*k:(i*k)+k]))\n",
    "\n",
    "def sub_task(string):\n",
    "    string_set = set(string)\n",
    "    u = \"\"\n",
    "    for s in string:\n",
    "        if s not in u and s in string_set:\n",
    "            u += s\n",
    "    return u\n"
   ]
  },
  {
   "cell_type": "code",
   "execution_count": 112,
   "metadata": {},
   "outputs": [
    {
     "name": "stdout",
     "output_type": "stream",
     "text": [
      "Stuart 12\n"
     ]
    }
   ],
   "source": [
    "## Minion Game\n",
    "  \n",
    "vowels = ['A', 'E', 'I', 'O', 'U']\n",
    "\n",
    "def minion_game(string):\n",
    "    score_kevin = 0\n",
    "    score_stuart = 0\n",
    "    \n",
    "    for ind in range(len(string)):\n",
    "        if string[ind] in vowels:\n",
    "            score_kevin += len(string) - ind\n",
    "        else:\n",
    "            score_stuart += len(string) - ind\n",
    "    \n",
    "    if score_kevin > score_stuart:\n",
    "        print(\"Kevin {}\".format(score_kevin))\n",
    "    elif score_kevin < score_stuart:\n",
    "        print(\"Stuart {}\".format(score_stuart))\n",
    "    else:\n",
    "        print(\"Draw\")\n",
    "        \n",
    "        \n",
    "        \n",
    "minion_game(\"BANANA\")"
   ]
  },
  {
   "cell_type": "code",
   "execution_count": null,
   "metadata": {},
   "outputs": [],
   "source": []
  }
 ],
 "metadata": {
  "kernelspec": {
   "display_name": "Python 3",
   "language": "python",
   "name": "python3"
  },
  "language_info": {
   "codemirror_mode": {
    "name": "ipython",
    "version": 3
   },
   "file_extension": ".py",
   "mimetype": "text/x-python",
   "name": "python",
   "nbconvert_exporter": "python",
   "pygments_lexer": "ipython3",
   "version": "3.8.5"
  }
 },
 "nbformat": 4,
 "nbformat_minor": 4
}
